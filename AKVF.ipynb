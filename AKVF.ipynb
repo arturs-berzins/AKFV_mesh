{
 "cells": [
  {
   "cell_type": "markdown",
   "metadata": {},
   "source": [
    "# Approximate Killing Vector Fields on Meshes\n",
    "\n",
    "This is a basic `python` implementation of *Approximate Killing vector fields* (AKVFs) to produce near-isometric deformations on meshes of 2D surfaces embedded in 3D.\n",
    "For more details refer to\n",
    "- [As-Killing-As-Possible Vector Fields for Planar Deformation](https://people.csail.mit.edu/jsolomon/assets/kvf_deformation.pdf) which introduce AKFVs for planar deformation (2D meshes in 2D space). Section (2.2) and Equations (5)-(7) describe how to set up the sparse least-squares system, which we generalize to 3D embedding space. Note, that we do not use the two-level optimization, because our deformations are prescribed only on the boundaries. Similarly, we do not use the logarithmic spiral trajectories, since we assume only small deformations.\n",
    "- [Near-Isometric Level Set Tracking](https://people.csail.mit.edu/jsolomon/assets/akvftracking_compressed.pdf) discusses AKVFs on 2D surfaces in 3D, focusing on tracking instead of deformations."
   ]
  },
  {
   "cell_type": "markdown",
   "metadata": {},
   "source": [
    "The Killing energy of a domain $\\Omega$ deformed along the deformation field $U$ is\n",
    "$$ E_K (U) = \\int_{p \\in \\Omega} || J_U(p) +J_U(p)^\\top ||^2 $$\n",
    "where we use the Frobenius norm and $\\Omega$ is a 2D manifold in 3D.\n",
    "Simimlarly, given a set of user-prescribed deformation handles $u_i$ at locations $C=\\{ p_i \\}$ the constraint violation is\n",
    "$$ E_C (U) = \\sum_{p_i \\in C} ||U(p_i) - u_i||^2 $$\n",
    "\n",
    "The as-Killing-as-possible deformation field $U$ is found by minimizing the Killing energy and constraint violation weighted by some scalar $\\lambda$:\n",
    "$$ U = \\argmin_{\\tilde{U}} \\left( E_K(\\tilde{U}) + \\lambda E_C(\\tilde{U}) \\right) $$"
   ]
  },
  {
   "cell_type": "markdown",
   "metadata": {},
   "source": [
    "On a mesh, we discretize the quantities and operators. For $n$ vertices and $m$ faces:\n",
    "- The velocity $U \\in \\R^{n \\times 3}$ is a vector on each vertex.\n",
    "- The gradient $G \\in \\R^{3m \\times n}$ discretizes $\\nabla f = G f$ (mapping a scalar $f$ on each vertex to a vector $\\nabla f$ of each face).\n",
    "\n",
    "We need to take care of the shapes and the order of entries in these and energy matrices. Please note the comments in the code.\n",
    "Furthermore, the mesh quality plays a role. Using meshes extracted with marching-cubes did not work well because the solver could not converge.\n",
    "\n",
    "\n",
    "The implementation relies on `igl` python-bindings to compute the gradients, which internally use `scipy.sparse`, which we will also use to solve the sparse least-squares system.\n",
    "For plotting, we use `k3d` and additionally `meshplot` to plot face attributes."
   ]
  },
  {
   "cell_type": "code",
   "execution_count": 66,
   "metadata": {},
   "outputs": [],
   "source": [
    "import igl\n",
    "import scipy as sp\n",
    "import numpy as np\n",
    "import k3d"
   ]
  },
  {
   "cell_type": "code",
   "execution_count": 2,
   "metadata": {},
   "outputs": [],
   "source": [
    "## Import mesh\n",
    "v, f = igl.read_triangle_mesh(\"data/bunny.obj\")\n",
    "n = len(v)\n",
    "m = len(f)"
   ]
  },
  {
   "cell_type": "markdown",
   "metadata": {},
   "source": [
    "### Define constraints"
   ]
  },
  {
   "cell_type": "code",
   "execution_count": 56,
   "metadata": {},
   "outputs": [],
   "source": [
    "## Ear: bend\n",
    "pt_ear = np.array([-.02, .17, -.015])\n",
    "r_ear = 0.03\n",
    "idxs_ear = np.where(np.square(v-pt_ear).sum(1) < np.square(r_ear))[0]\n",
    "dv_ear = np.zeros([len(idxs_ear), 3]) + [.01,0,.01]\n",
    "\n",
    "## Base: anchor\n",
    "idxs_base = np.where(v[:,1] < (v.min(axis=0)[1] + .002))[0]\n",
    "dv_base = np.zeros([len(idxs_base), 3])\n",
    "\n",
    "\n",
    "## Combine\n",
    "idxs = np.hstack([\n",
    "    idxs_ear,\n",
    "    idxs_base,  ## comment this, if you want to demonstrate how rigid deformation is recovered\n",
    "])\n",
    "\n",
    "## The constraints dv are shape (|C|, 3)\n",
    "dv = np.zeros(v.shape)\n",
    "dv[idxs_ear] = dv_ear\n",
    "dv[idxs_base] = dv_base ## comment this, if you want to demonstrate how rigid deformation is recovered"
   ]
  },
  {
   "cell_type": "code",
   "execution_count": 104,
   "metadata": {},
   "outputs": [
    {
     "data": {
      "application/vnd.jupyter.widget-view+json": {
       "model_id": "9d33534dcc04443587a2826737ec00f9",
       "version_major": 2,
       "version_minor": 0
      },
      "text/plain": [
       "Output()"
      ]
     },
     "metadata": {},
     "output_type": "display_data"
    }
   ],
   "source": [
    "fig = k3d.plot() \n",
    "fig += k3d.mesh(v.astype(np.float32), f.astype(np.uint32), color=0xaaaaaa, opacity=.5)\n",
    "fig += k3d.points(v[idxs_base], color=0xff0000, point_size=0.001)\n",
    "fig += k3d.vectors(v[idxs_ear], dv[idxs_ear], color=0xff0000, line_width=0.0001, head_size=0.01)\n",
    "fig.display()"
   ]
  },
  {
   "cell_type": "code",
   "execution_count": 105,
   "metadata": {},
   "outputs": [],
   "source": [
    "fig.camera = [0, .2, .15, 0, .1, 0, 0, .95, -.25]"
   ]
  },
  {
   "cell_type": "markdown",
   "metadata": {},
   "source": [
    "### Least-squares"
   ]
  },
  {
   "cell_type": "code",
   "execution_count": 4,
   "metadata": {},
   "outputs": [],
   "source": [
    "## Discrete gradient operator\n",
    "G = igl.grad(v, f)  ## shape (3*|F|, |V|)\n",
    "## Split into gradients wrt x,y,z \n",
    "Gx, Gy, Gz = G[:m], G[m:2*m], G[2*m:]\n",
    "\n",
    "## P is the discrete operator taking vertices to Killing energy in Forbenius norm\n",
    "## Each row corresponds to a different term when expanding ||J+J'||^2\n",
    "\n",
    "S = np.sqrt(2)\n",
    "P = sp.sparse.bmat([\n",
    "    [2*Gx, None, None],    ## (2*du_x/dx)^2\n",
    "    [None, 2*Gy, None],    ## (2*du_y/dy)^2\n",
    "    [None, None, 2*Gz],    ## (2*du_y/dz)^2\n",
    "    [S*Gy, S*Gx, None],    ## 2*(du_x/dy + du_y/dx)^2\n",
    "    [S*Gz, None, S*Gx],    ## 2*(du_y/dz + du_z/dy)^2\n",
    "    [None, S*Gz, S*Gy],    ## 2*(du_x/dx + du_z/dx)^2\n",
    "])\n",
    "\n",
    "## Due to how this block matrix is created, every column represents a component of du.\n",
    "## That means, that the unknown du is a stacked vector [du_x, du_y, du_z].\n",
    "## This corresponds to flattening and reshaping with order='F' as opposed to 'C'."
   ]
  },
  {
   "cell_type": "code",
   "execution_count": 75,
   "metadata": {},
   "outputs": [],
   "source": [
    "## Minimize via lstsq ##\n",
    "\n",
    "## First build the matrix for the constraint energy\n",
    "k = len(idxs)\n",
    "I = sp.sparse.csr_matrix((k,n), dtype=np.float64)\n",
    "for i, idx in enumerate(idxs):\n",
    "    I[i, idx] = 1\n",
    "Ik = sp.sparse.bmat([\n",
    "    [1*I,0*I,0*I],\n",
    "    [0*I,1*I,0*I],\n",
    "    [0*I,0*I,1*I]\n",
    "])\n",
    "\n",
    "## Run lstsq\n",
    "lmbd = 1e2\n",
    "A = sp.sparse.bmat([[P], [lmbd*Ik]])\n",
    "b = np.hstack([np.zeros([P.shape[0]]), lmbd*dv[idxs].flatten(order='F')])\n",
    "\n",
    "## Extract the solution\n",
    "sol = sp.sparse.linalg.lsqr(A, b)\n",
    "du = sol[0].reshape(v.shape, order='F')"
   ]
  },
  {
   "cell_type": "markdown",
   "metadata": {},
   "source": [
    "### Plot"
   ]
  },
  {
   "cell_type": "code",
   "execution_count": 108,
   "metadata": {},
   "outputs": [
    {
     "name": "stderr",
     "output_type": "stream",
     "text": [
      "C:\\Users\\artursb\\Anaconda3\\lib\\site-packages\\traittypes\\traittypes.py:97: UserWarning: Given trait value dtype \"int32\" does not match required type \"uint32\". A coerced copy has been created.\n",
      "  warnings.warn(\n"
     ]
    },
    {
     "data": {
      "application/vnd.jupyter.widget-view+json": {
       "model_id": "a285ce492ab54431960cfdc77ea46582",
       "version_major": 2,
       "version_minor": 0
      },
      "text/plain": [
       "Output()"
      ]
     },
     "metadata": {},
     "output_type": "display_data"
    }
   ],
   "source": [
    "## Plot the solution\n",
    "\n",
    "fig = k3d.plot() \n",
    "fig += k3d.mesh(v, f, color=0xaaaaaa, opacity=.5) ## Initial mesh\n",
    "fig += k3d.mesh(v+du, f, attribute=np.sqrt(np.square(du).sum(1))) ## Deformed mesh with color-coded magnitude of deformation\n",
    "fig.display()"
   ]
  },
  {
   "cell_type": "code",
   "execution_count": 109,
   "metadata": {},
   "outputs": [],
   "source": [
    "fig.camera = [0, .2, .15, 0, .1, 0, 0, .95, -.25]"
   ]
  },
  {
   "cell_type": "markdown",
   "metadata": {},
   "source": [
    "The resulting deformation seems reasonable. We can also demonstrate, that this recovers rigid deformations, if we remove the anchors at the base of the shape by commenting them out during the constraint definition. The resulting deformation is a pure translation. To see it better, you might want to tune the $\\lambda$.\n",
    "\n",
    "Lastly, we can visualize the Killing-energy on the shape."
   ]
  },
  {
   "cell_type": "code",
   "execution_count": 65,
   "metadata": {},
   "outputs": [
    {
     "data": {
      "application/vnd.jupyter.widget-view+json": {
       "model_id": "7e9a74331685495db3279604369f1ddb",
       "version_major": 2,
       "version_minor": 0
      },
      "text/plain": [
       "Renderer(camera=PerspectiveCamera(children=(DirectionalLight(color='white', intensity=0.6, position=(-0.014100…"
      ]
     },
     "metadata": {},
     "output_type": "display_data"
    },
    {
     "data": {
      "text/plain": [
       "<meshplot.Viewer.Viewer at 0x2472d371f70>"
      ]
     },
     "execution_count": 65,
     "metadata": {},
     "output_type": "execute_result"
    }
   ],
   "source": [
    "## We can plot the Killing-energy ##\n",
    "\n",
    "## Find the Killing energy on each face\n",
    "e_K = np.square(P@sol[0]).reshape(len(f),-1, order='F').sum(-1)\n",
    "\n",
    "## Plot w ith meshplot, becase k3d cannot plot face attributes\n",
    "import meshplot as mp\n",
    "mp.plot(v+du, f, e_K)"
   ]
  }
 ],
 "metadata": {
  "kernelspec": {
   "display_name": "Python 3.8.5 ('py38')",
   "language": "python",
   "name": "python3"
  },
  "language_info": {
   "codemirror_mode": {
    "name": "ipython",
    "version": 3
   },
   "file_extension": ".py",
   "mimetype": "text/x-python",
   "name": "python",
   "nbconvert_exporter": "python",
   "pygments_lexer": "ipython3",
   "version": "3.8.5"
  },
  "orig_nbformat": 4,
  "vscode": {
   "interpreter": {
    "hash": "d9e9efd8e346b73925d2cbf3fae006accb63715094942b91d99ec35c52cde794"
   }
  }
 },
 "nbformat": 4,
 "nbformat_minor": 2
}
