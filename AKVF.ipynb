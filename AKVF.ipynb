{
 "cells": [
  {
   "cell_type": "markdown",
   "metadata": {},
   "source": [
    "# Approximate Killing Vector Fields on Meshes\n",
    "\n",
    "Approximate Killing vector fields (AKVFs) produce near-isometric deformations.\n",
    "This is a simple implementation of AKVFs in `python` based loosely on [As-Killing-As-Possible Vector Fields for Planar Deformation](https://people.csail.mit.edu/jsolomon/assets/kvf_deformation.pdf)\n",
    "This script generalizes from 2D to 3D, but does not use the two-level optimization or the logarithmic spiral trajectories."
   ]
  },
  {
   "cell_type": "markdown",
   "metadata": {},
   "source": [
    "The Killing energy of a domain $\\Omega$ (e.g. 2D surface embedded in 3D) deformed along the deformation field $U$ is\n",
    "$$ E_K (U) = \\int_{p \\in \\Omega} || J_U(p) +J_U(p)^\\top ||^2 $$\n",
    "\n",
    "Given a set of user-prescribed velocities $u_i$ at locations $C=\\{ p_i \\}$ the as-Killing-as-possible deformation field $U$ is found by minimizing the Killing energy and constraint violation:\n",
    "$$ U^0 = \\argmin \\left( E_K(U) + \\lambda \\sum_{p_i \\in C} U(p_i) - u_i \\right) $$\n",
    "\n",
    "However, this creates singularities around the constraints. We regularize the solution using the deformed boundary as a constraint\n",
    "$$ U_1 = \\argmin \\left( E_K(U) \\text{ s.t. } U=U^0 \\text{ on } \\delta\\Omega \\right) $$"
   ]
  },
  {
   "cell_type": "markdown",
   "metadata": {},
   "source": [
    "In practice, we discretize the quantities and operators on a mesh. For $n$ vertices and $m$ faces:\n",
    "- The velocity $U \\in \\R^{n \\times 3}$.\n",
    "- The gradient $G \\in \\R^{3m \\times n}$ discretizes $\\nabla f = G f$ (mapping vertex to face values)\n",
    "- "
   ]
  },
  {
   "cell_type": "code",
   "execution_count": 142,
   "metadata": {},
   "outputs": [],
   "source": [
    "import igl\n",
    "import scipy as sp\n",
    "import numpy as np\n",
    "import k3d"
   ]
  },
  {
   "cell_type": "code",
   "execution_count": 143,
   "metadata": {},
   "outputs": [],
   "source": [
    "## Import mesh\n",
    "v, f = igl.read_triangle_mesh(\"data/bunny.obj\")\n",
    "n = len(v)\n",
    "m = len(f)"
   ]
  },
  {
   "cell_type": "code",
   "execution_count": 99,
   "metadata": {},
   "outputs": [
    {
     "name": "stderr",
     "output_type": "stream",
     "text": [
      "/home/arturs/anaconda3/envs/py38/lib/python3.8/site-packages/traittypes/traittypes.py:97: UserWarning: Given trait value dtype \"float64\" does not match required type \"float32\". A coerced copy has been created.\n",
      "  warnings.warn(\n",
      "/home/arturs/anaconda3/envs/py38/lib/python3.8/site-packages/traittypes/traittypes.py:97: UserWarning: Given trait value dtype \"int64\" does not match required type \"uint32\". A coerced copy has been created.\n",
      "  warnings.warn(\n"
     ]
    },
    {
     "data": {
      "application/vnd.jupyter.widget-view+json": {
       "model_id": "0bc750a33be64895bc9d5c1bfbea6821",
       "version_major": 2,
       "version_minor": 0
      },
      "text/plain": [
       "Output()"
      ]
     },
     "metadata": {},
     "output_type": "display_data"
    }
   ],
   "source": [
    "## Define some constraints\n",
    "fig = k3d.plot() \n",
    "fig += k3d.mesh(v, f, color=0, wireframe=True)\n",
    "\n",
    "## EAR\n",
    "pt_ear = np.array([-.02, .17, -.015])\n",
    "r_ear = 0.03\n",
    "idxs_ear = np.where(np.square(v-pt_ear).sum(1) < np.square(r_ear))[0]\n",
    "dv_ear = np.zeros([len(idxs_ear), 3]) + [.01,0,.01]\n",
    "\n",
    "fig += k3d.points(pt_ear, color=0x0000ff, point_size=2*r_ear, opacity=.5)\n",
    "fig += k3d.points(v[idxs_ear], color=0x0000ff, point_size=0.001)\n",
    "\n",
    "## BASE\n",
    "idxs_base = np.where(v[:,1] < (v.min(axis=0)[1] + .002))[0]\n",
    "dv_base = np.zeros([len(idxs_base), 3])\n",
    "fig += k3d.points(v[idxs_base], color=0xff0000, point_size=0.001)\n",
    "\n",
    "idxs = np.hstack([idxs_ear, idxs_base])\n",
    "dv = np.zeros(v.shape)\n",
    "dv[idxs_ear] = dv_ear\n",
    "dv[idxs_base] = dv_base\n",
    "\n",
    "fig.display()"
   ]
  },
  {
   "cell_type": "code",
   "execution_count": 14,
   "metadata": {},
   "outputs": [],
   "source": [
    "## Discrete gradient operator\n",
    "G = igl.grad(v, f)  ## shape (3*|F|, |V|)\n",
    "\n",
    "## P: the discrete operator taking vertices to Killing energy in Forbenius norm\n",
    "## Each row we add corresponds to different terms when expanding ||J+J'||^2\n",
    "'''\n",
    "2 0 0\n",
    "0 2 0\n",
    "0 0 2\n",
    "S S 0\n",
    "0 S S\n",
    "S 0 S\n",
    "where S = sqrt(2)\n",
    "'''\n",
    "S = np.sqrt(2)\n",
    "P = sp.sparse.bmat([\n",
    "    [2*G, 0*G, 0*G],    ## (2*du_x/dx)^2\n",
    "    [0*G, 2*G, 0*G],    ## (2*du_y/dy)^2\n",
    "    [0*G, 0*G, 2*G],    ## (2*du_y/dz)^2\n",
    "    [S*G, S*G, 0*G],    ## 2*(du_x/dy + du_y/dx)^2\n",
    "    [0*G, S*G, S*G],    ## 2*(du_y/dz + du_z/dy)^2\n",
    "    [S*G, 0*G, S*G],    ## 2*(du_x/dx + du_z/dx)^2\n",
    "])\n",
    "\n",
    "## Due to how this block matrix is created, every column represents a component of du.\n",
    "## That means, that the unknown du is a stacked vector [du_x, du_y, du_z].\n",
    "## This corresponds to flattening and reshaping with order='F' as opposed to 'C'."
   ]
  },
  {
   "cell_type": "code",
   "execution_count": 103,
   "metadata": {},
   "outputs": [
    {
     "name": "stderr",
     "output_type": "stream",
     "text": [
      "/home/arturs/anaconda3/envs/py38/lib/python3.8/site-packages/scipy/sparse/_index.py:82: SparseEfficiencyWarning: Changing the sparsity structure of a csr_matrix is expensive. lil_matrix is more efficient.\n",
      "  self._set_intXint(row, col, x.flat[0])\n"
     ]
    },
    {
     "name": "stdout",
     "output_type": "stream",
     "text": [
      "(125388, 10455) (1338, 10455)\n",
      "(125388, 10455) (1338,)\n",
      "(126726, 10455) (126726,)\n"
     ]
    }
   ],
   "source": [
    "## Minimize via lstsq ##\n",
    "lmbd = 1e4\n",
    "k = len(idxs)\n",
    "I = sp.sparse.csr_matrix((k,n), dtype=np.float64)\n",
    "for i, idx in enumerate(idxs):\n",
    "    I[i, idx] = 1\n",
    "Ik = sp.sparse.bmat([\n",
    "    [1*I,0*I,0*I],\n",
    "    [0*I,1*I,0*I],\n",
    "    [0*I,0*I,1*I]\n",
    "])\n",
    "\n",
    "A = sp.sparse.bmat([[P], [lmbd*Ik]])\n",
    "b = np.hstack([np.zeros([P.shape[0]]), lmbd*dv[idxs].flatten(order='F')])\n",
    "\n",
    "\n",
    "sol = sp.sparse.linalg.lsqr(A, b)\n",
    "du = sol[0].reshape(v.shape, order='F')\n",
    "\n",
    "print(np.abs(du).max())"
   ]
  },
  {
   "cell_type": "code",
   "execution_count": 136,
   "metadata": {},
   "outputs": [
    {
     "name": "stderr",
     "output_type": "stream",
     "text": [
      "/home/arturs/anaconda3/envs/py38/lib/python3.8/site-packages/traittypes/traittypes.py:97: UserWarning: Given trait value dtype \"float64\" does not match required type \"float32\". A coerced copy has been created.\n",
      "  warnings.warn(\n",
      "/home/arturs/anaconda3/envs/py38/lib/python3.8/site-packages/traittypes/traittypes.py:97: UserWarning: Given trait value dtype \"int64\" does not match required type \"uint32\". A coerced copy has been created.\n",
      "  warnings.warn(\n"
     ]
    },
    {
     "data": {
      "application/vnd.jupyter.widget-view+json": {
       "model_id": "d3f501503bdb462a9c88df55699e9da4",
       "version_major": 2,
       "version_minor": 0
      },
      "text/plain": [
       "Output()"
      ]
     },
     "metadata": {},
     "output_type": "display_data"
    }
   ],
   "source": [
    "import k3d\n",
    "\n",
    "fig = k3d.plot() \n",
    "\n",
    "# fig += k3d.mesh(cs, f, color=0x00ff00, attribute=np.sqrt(np.square((cs-v)).sum(1)))\n",
    "# fig += k3d.mesh(u, f, color=0x00ff00, attribute=np.sqrt(np.square((u-cs)).sum(1)))\n",
    "# for i in range(800,1000):\n",
    "#     fig += k3d.text(str(i), v[i].tolist(), reference_point='cc', label_box=False, color=0)\n",
    "\n",
    "fig += k3d.mesh(v, f, color=0, wireframe=True)\n",
    "fig += k3d.mesh(v+du, f, attribute=np.sqrt(np.square(du).sum(1)), opacity=.8)\n",
    "\n",
    "\n",
    "\n",
    "fig.display()"
   ]
  },
  {
   "cell_type": "code",
   "execution_count": 140,
   "metadata": {},
   "outputs": [],
   "source": [
    "## Find the Killing energy on each face\n",
    "e_K = np.square(P@sol[0]).reshape(len(f),-1, order='F').sum(-1)"
   ]
  },
  {
   "cell_type": "code",
   "execution_count": 141,
   "metadata": {},
   "outputs": [
    {
     "data": {
      "application/vnd.jupyter.widget-view+json": {
       "model_id": "c3a9b659fd874f21a40c8af0b9f8f3bc",
       "version_major": 2,
       "version_minor": 0
      },
      "text/plain": [
       "Renderer(camera=PerspectiveCamera(children=(DirectionalLight(color='white', intensity=0.6, position=(-0.014305…"
      ]
     },
     "metadata": {},
     "output_type": "display_data"
    },
    {
     "data": {
      "text/plain": [
       "<meshplot.Viewer.Viewer at 0x7f2a36271e50>"
      ]
     },
     "execution_count": 141,
     "metadata": {},
     "output_type": "execute_result"
    }
   ],
   "source": [
    "import meshplot as mp\n",
    "\n",
    "mp.plot(v+du, f, e_K)"
   ]
  }
 ],
 "metadata": {
  "kernelspec": {
   "display_name": "Python 3.8.5 ('py38')",
   "language": "python",
   "name": "python3"
  },
  "language_info": {
   "codemirror_mode": {
    "name": "ipython",
    "version": 3
   },
   "file_extension": ".py",
   "mimetype": "text/x-python",
   "name": "python",
   "nbconvert_exporter": "python",
   "pygments_lexer": "ipython3",
   "version": "3.8.5"
  },
  "orig_nbformat": 4,
  "vscode": {
   "interpreter": {
    "hash": "d9e9efd8e346b73925d2cbf3fae006accb63715094942b91d99ec35c52cde794"
   }
  }
 },
 "nbformat": 4,
 "nbformat_minor": 2
}
